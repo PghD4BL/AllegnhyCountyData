{
 "cells": [
  {
   "cell_type": "code",
   "execution_count": 1,
   "metadata": {},
   "outputs": [],
   "source": [
    "import matplotlib.pyplot as plt\n",
    "import pandas as pd\n",
    "import csv\n",
    "import requests\n",
    "import datetime\n",
    "import dateutil\n",
    "import json\n",
    "from pandas.io.json import json_normalize"
   ]
  },
  {
   "cell_type": "code",
   "execution_count": 2,
   "metadata": {},
   "outputs": [],
   "source": [
    "# setting the date\n",
    "# ****remember to change the date Accordingly*****#\n",
    "# date format = Year, month, day\n",
    "start = '2020-02-02'\n",
    "end = '2020-02-29'\n",
    "\n",
    "# getting the data from the url\n",
    "url = \"https://data.wprdc.org/api/3/action/datastore_search_sql?sql=SELECT%20census_date,%20record_id,%20race,%20gender,%20age_at_census%20from%20%2266cdcd57-6c92-4aaa-8800-0ed9d8f03e22%22%20WHERE%20census_date%20BETWEEN%20%27\" + start +\"%27%20AND%20%27\" + end +\"%27\"\n",
    "response = requests.get(url)\n",
    "\n",
    "#read the data\n",
    "data = response.text\n",
    "\n",
    "# parsing the data -- converting to Json\n",
    "# so as can read as a dict\n",
    "parsed = json.loads(data)\n",
    "\n",
    "# extrating the 'record' for the month\n",
    "df = pd.json_normalize(parsed['result']['records'], errors='ignore')\n",
    "\n",
    "# converting the date to dataframe and,\n",
    "# sorting the 'date' in ascending order\n",
    "df['census_date'] = pd.to_datetime(df['census_date']).dt.date\n",
    "df = df.sort_values(by = 'census_date')\n",
    "df.reset_index(drop=True, inplace=True)\n",
    "\n",
    "#Saving as csv file\n",
    "# ****remember to change the file name accordingly.******#\n",
    "df.to_csv('febuary.csv')\n"
   ]
  },
  {
   "cell_type": "code",
   "execution_count": null,
   "metadata": {},
   "outputs": [],
   "source": []
  }
 ],
 "metadata": {
  "kernelspec": {
   "display_name": "Python 3",
   "language": "python",
   "name": "python3"
  },
  "language_info": {
   "codemirror_mode": {
    "name": "ipython",
    "version": 3
   },
   "file_extension": ".py",
   "mimetype": "text/x-python",
   "name": "python",
   "nbconvert_exporter": "python",
   "pygments_lexer": "ipython3",
   "version": "3.8.3"
  }
 },
 "nbformat": 4,
 "nbformat_minor": 4
}
